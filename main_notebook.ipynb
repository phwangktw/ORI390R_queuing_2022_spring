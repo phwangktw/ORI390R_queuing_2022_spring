{
  "nbformat": 4,
  "nbformat_minor": 0,
  "metadata": {
    "colab": {
      "name": "main_notebook.ipynb",
      "provenance": [],
      "authorship_tag": "ABX9TyMQ+J2/bMVxSdc4+pmD/F1k",
      "include_colab_link": true
    },
    "kernelspec": {
      "name": "python3",
      "display_name": "Python 3"
    },
    "language_info": {
      "name": "python"
    }
  },
  "cells": [
    {
      "cell_type": "markdown",
      "metadata": {
        "id": "view-in-github",
        "colab_type": "text"
      },
      "source": [
        "<a href=\"https://colab.research.google.com/github/phwangktw/ORI390R_queuing_2022_spring/blob/main/main_notebook.ipynb\" target=\"_parent\"><img src=\"https://colab.research.google.com/assets/colab-badge.svg\" alt=\"Open In Colab\"/></a>"
      ]
    },
    {
      "cell_type": "code",
      "source": [
        "!pip install ciw"
      ],
      "metadata": {
        "colab": {
          "base_uri": "https://localhost:8080/"
        },
        "id": "TXRCSPpsrP6E",
        "outputId": "c06ebd86-d111-409c-d4b0-20023b6ac311"
      },
      "execution_count": 1,
      "outputs": [
        {
          "output_type": "stream",
          "name": "stdout",
          "text": [
            "Requirement already satisfied: ciw in /usr/local/lib/python3.7/dist-packages (2.2.4)\n",
            "Requirement already satisfied: tqdm==4.14.0 in /usr/local/lib/python3.7/dist-packages (from ciw) (4.14.0)\n",
            "Requirement already satisfied: PyYAML>=5.1 in /usr/local/lib/python3.7/dist-packages (from ciw) (6.0)\n",
            "Requirement already satisfied: networkx>=2.3 in /usr/local/lib/python3.7/dist-packages (from ciw) (2.6.3)\n"
          ]
        }
      ]
    },
    {
      "cell_type": "code",
      "source": [
        "!pip install matplotlib==3.5.1"
      ],
      "metadata": {
        "colab": {
          "base_uri": "https://localhost:8080/"
        },
        "id": "XXZYIj6zr0Gl",
        "outputId": "3f2eefd2-dcf5-4905-b2a3-acee84c5fdba"
      },
      "execution_count": 2,
      "outputs": [
        {
          "output_type": "stream",
          "name": "stdout",
          "text": [
            "Requirement already satisfied: matplotlib==3.5.1 in /usr/local/lib/python3.7/dist-packages (3.5.1)\n",
            "Requirement already satisfied: cycler>=0.10 in /usr/local/lib/python3.7/dist-packages (from matplotlib==3.5.1) (0.11.0)\n",
            "Requirement already satisfied: pillow>=6.2.0 in /usr/local/lib/python3.7/dist-packages (from matplotlib==3.5.1) (7.1.2)\n",
            "Requirement already satisfied: pyparsing>=2.2.1 in /usr/local/lib/python3.7/dist-packages (from matplotlib==3.5.1) (3.0.8)\n",
            "Requirement already satisfied: fonttools>=4.22.0 in /usr/local/lib/python3.7/dist-packages (from matplotlib==3.5.1) (4.33.3)\n",
            "Requirement already satisfied: python-dateutil>=2.7 in /usr/local/lib/python3.7/dist-packages (from matplotlib==3.5.1) (2.8.2)\n",
            "Requirement already satisfied: packaging>=20.0 in /usr/local/lib/python3.7/dist-packages (from matplotlib==3.5.1) (21.3)\n",
            "Requirement already satisfied: numpy>=1.17 in /usr/local/lib/python3.7/dist-packages (from matplotlib==3.5.1) (1.21.6)\n",
            "Requirement already satisfied: kiwisolver>=1.0.1 in /usr/local/lib/python3.7/dist-packages (from matplotlib==3.5.1) (1.4.2)\n",
            "Requirement already satisfied: typing-extensions in /usr/local/lib/python3.7/dist-packages (from kiwisolver>=1.0.1->matplotlib==3.5.1) (4.2.0)\n",
            "Requirement already satisfied: six>=1.5 in /usr/local/lib/python3.7/dist-packages (from python-dateutil>=2.7->matplotlib==3.5.1) (1.15.0)\n"
          ]
        }
      ]
    },
    {
      "cell_type": "code",
      "execution_count": 4,
      "metadata": {
        "id": "sPvU72VmqTBm"
      },
      "outputs": [],
      "source": [
        "# -*- coding: utf-8 -*-\n",
        "\"\"\"\n",
        "Created on Sat Apr 30 17:08:57 2022\n",
        "\n",
        "@author: phwangk\n",
        "\n",
        "exogenous rate = 6 lots/hr\n",
        "class: single class\n",
        "station J: J=26\n",
        "Service rate: Hyper exponential [0.9, 0.1], 10% of fast-passed engineering lots\n",
        "\n",
        "Other characteristics:\n",
        "    rework situations: x\n",
        "    inspection stations: x\n",
        "    BEOL engineering testing lot: x\n",
        "\n",
        "\"\"\"\n",
        "\n",
        "import ciw\n",
        "import network_init_13 as init\n",
        "import numpy as np\n",
        "import pandas as pd\n",
        "import matplotlib.pyplot as plt\n",
        "import seaborn as sns\n",
        "import stat_vis as vis\n",
        "sns.set_style(\"whitegrid\")\n",
        "\n",
        "\n",
        "\n",
        "# Step1. Network Initialization\n",
        "\n",
        "## distribution list (arrival) initialization\n",
        "arrival_distributions_input = init.arrival_queue_init()\n",
        "service_distributions_input = init.service_distributions_init()\n",
        "routing_input = init.routing_init()\n",
        "number_of_servers = [3,5,11,8,5,3,6,7,7,3,5,7,8]\n",
        "class_change_matrices_input = init.class_change_matrices_init()\n",
        "\n",
        "N = ciw.create_network(arrival_distributions=arrival_distributions_input,\n",
        "                       service_distributions=service_distributions_input,\n",
        "                       routing=routing_input,\n",
        "                       class_change_matrices=class_change_matrices_input,\n",
        "                       number_of_servers = number_of_servers\n",
        "   )\n",
        "\n",
        "# Step2. Simulation (10 times)\n",
        "node_result_list = []\n",
        "recs_list = []\n",
        "for trial in range(10):\n",
        "    ciw.seed(trial)\n",
        "    Q = ciw.Simulation(N)\n",
        "    Q.simulate_until_max_time(720)\n",
        "    recs_list.append(Q.get_all_records())\n",
        "    node_result_list.append(Q.transitive_nodes)"
      ]
    },
    {
      "cell_type": "code",
      "source": [
        "## 3-1 Utilization\n",
        "vis.plot_util(Q.transitive_nodes)"
      ],
      "metadata": {
        "colab": {
          "base_uri": "https://localhost:8080/",
          "height": 478
        },
        "id": "8GBfs3eh_Vgb",
        "outputId": "ed3f3520-d3cd-420c-a136-4ad568ff9a09"
      },
      "execution_count": 12,
      "outputs": [
        {
          "output_type": "display_data",
          "data": {
            "text/plain": [
              "<Figure size 432x288 with 1 Axes>"
            ],
            "image/png": "[encoded data removed]"
          },
          "metadata": {}
        },
        {
          "output_type": "error",
          "ename": "TypeError",
          "evalue": "ignored",
          "traceback": [
            "\u001b[0;31m---------------------------------------------------------------------------\u001b[0m",
            "\u001b[0;31mTypeError\u001b[0m                                 Traceback (most recent call last)",
            "\u001b[0;32m<ipython-input-12-aac58c2afd2d>\u001b[0m in \u001b[0;36m<module>\u001b[0;34m()\u001b[0m\n\u001b[1;32m      4\u001b[0m \u001b[0;31m## 3-2 Single station Gantt plot\u001b[0m\u001b[0;34m\u001b[0m\u001b[0;34m\u001b[0m\u001b[0;34m\u001b[0m\u001b[0m\n\u001b[1;32m      5\u001b[0m \u001b[0mnodeStation\u001b[0m \u001b[0;34m=\u001b[0m \u001b[0;36m5\u001b[0m\u001b[0;34m\u001b[0m\u001b[0;34m\u001b[0m\u001b[0m\n\u001b[0;32m----> 6\u001b[0;31m \u001b[0mvis\u001b[0m\u001b[0;34m.\u001b[0m\u001b[0mgantt_generate\u001b[0m\u001b[0;34m(\u001b[0m\u001b[0mrecs_list\u001b[0m\u001b[0;34m,\u001b[0m \u001b[0mnodeStation\u001b[0m\u001b[0;34m)\u001b[0m\u001b[0;34m\u001b[0m\u001b[0;34m\u001b[0m\u001b[0m\n\u001b[0m",
            "\u001b[0;31mTypeError\u001b[0m: gantt_generate() takes 0 positional arguments but 2 were given"
          ]
        }
      ]
    },
    {
      "cell_type": "code",
      "source": [
        "## 3-2 Single station Gantt plot\n",
        "nodeStation = 5\n",
        "vis.gantt_generate(recs_list, nodeStation)"
      ],
      "metadata": {
        "colab": {
          "base_uri": "https://localhost:8080/",
          "height": 200
        },
        "id": "sFC0tjVs_WYH",
        "outputId": "37ab9075-c3a7-4541-ce66-96fc6b6d32ba"
      },
      "execution_count": 13,
      "outputs": [
        {
          "output_type": "error",
          "ename": "TypeError",
          "evalue": "ignored",
          "traceback": [
            "\u001b[0;31m---------------------------------------------------------------------------\u001b[0m",
            "\u001b[0;31mTypeError\u001b[0m                                 Traceback (most recent call last)",
            "\u001b[0;32m<ipython-input-13-56361cdec848>\u001b[0m in \u001b[0;36m<module>\u001b[0;34m()\u001b[0m\n\u001b[1;32m      1\u001b[0m \u001b[0;31m## 3-2 Single station Gantt plot\u001b[0m\u001b[0;34m\u001b[0m\u001b[0;34m\u001b[0m\u001b[0;34m\u001b[0m\u001b[0m\n\u001b[1;32m      2\u001b[0m \u001b[0mnodeStation\u001b[0m \u001b[0;34m=\u001b[0m \u001b[0;36m5\u001b[0m\u001b[0;34m\u001b[0m\u001b[0;34m\u001b[0m\u001b[0m\n\u001b[0;32m----> 3\u001b[0;31m \u001b[0mvis\u001b[0m\u001b[0;34m.\u001b[0m\u001b[0mgantt_generate\u001b[0m\u001b[0;34m(\u001b[0m\u001b[0mrecs_list\u001b[0m\u001b[0;34m,\u001b[0m \u001b[0mnodeStation\u001b[0m\u001b[0;34m)\u001b[0m\u001b[0;34m\u001b[0m\u001b[0;34m\u001b[0m\u001b[0m\n\u001b[0m",
            "\u001b[0;31mTypeError\u001b[0m: gantt_generate() takes 0 positional arguments but 2 were given"
          ]
        }
      ]
    }
  ]
}